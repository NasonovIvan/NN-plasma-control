{
 "cells": [
  {
   "cell_type": "code",
   "execution_count": 7,
   "metadata": {},
   "outputs": [],
   "source": [
    "import tensorflow as tf\n",
    "from tensorflow import keras\n",
    "import numpy as np"
   ]
  },
  {
   "cell_type": "code",
   "execution_count": 6,
   "metadata": {},
   "outputs": [],
   "source": [
    "A = 0.86\n",
    "B = 0.16\n",
    "C = 1.\n",
    "dt = 1e-4\n",
    "u_t = 0. "
   ]
  },
  {
   "cell_type": "code",
   "execution_count": 9,
   "metadata": {},
   "outputs": [],
   "source": [
    "def system(x_t, u_t, A, B, C):\n",
    "    x_t = A * x_t + B * u_t\n",
    "    return C * x_t\n",
    "\n",
    "def error(Z_t, Z):\n",
    "    return abs(Z_t - Z)\n",
    "\n",
    "def signal_z_ref(N):\n",
    "    Z_ref = []\n",
    "    for i in range(N):\n",
    "        if i < N / 2:\n",
    "            Z_ref.append(0)\n",
    "        else:\n",
    "            Z_ref.append(1)\n",
    "    return Z_ref\n",
    "\n"
   ]
  },
  {
   "cell_type": "code",
   "execution_count": 8,
   "metadata": {},
   "outputs": [],
   "source": [
    "# Define class to add andom noise for data (Ornstein–Uhlenbeck process)\n",
    "\n",
    "class OUActionNoise:\n",
    "    def __init__(self, mean, std_deviation, theta=0.0015, dt=1e-4, x_initial=None):\n",
    "        self.theta = theta\n",
    "        self.mean = mean\n",
    "        self.std_dev = std_deviation\n",
    "        self.dt = dt\n",
    "        self.x_init = x_initial\n",
    "        self.reset()\n",
    "    \n",
    "    def __call__(self):\n",
    "        # Formula is taken from https://en.wikipedia.org/wiki/Ornstein%E2%80%93Uhlenbeck_process\n",
    "        x = (\n",
    "            self.x_prev + self.theta * (self.mean - self.x_prev) * self.dt\n",
    "            + self.std_dev + np.sqrt(self.dt) * np.random.normal(size=self.mean.shape)\n",
    "        )\n",
    "        self.x_prev = x\n",
    "        return x\n",
    "\n",
    "    def reset(self):\n",
    "        if self.x_init is not None:\n",
    "            self.x_prev = self.x_init\n",
    "        else:\n",
    "            self.x_prev = np.zeros_like(self.mean)"
   ]
  },
  {
   "cell_type": "code",
   "execution_count": 10,
   "metadata": {},
   "outputs": [],
   "source": [
    "std_dev = 1e-3\n",
    "ou_noise = OUActionNoise(mean=np.zeros(1), std_deviation=float(std_dev) * np.ones(1))"
   ]
  },
  {
   "cell_type": "code",
   "execution_count": null,
   "metadata": {},
   "outputs": [],
   "source": [
    "def define_x_t(N):\n",
    "    x_t = []\n",
    "    for i in range(N):\n",
    "        noise = float(ou_noise() * 1e-2)\n",
    "        x_t.append(noise)\n",
    "    noise = np.array(x_t)"
   ]
  }
 ],
 "metadata": {
  "kernelspec": {
   "display_name": "Python 3.10.8 64-bit",
   "language": "python",
   "name": "python3"
  },
  "language_info": {
   "codemirror_mode": {
    "name": "ipython",
    "version": 3
   },
   "file_extension": ".py",
   "mimetype": "text/x-python",
   "name": "python",
   "nbconvert_exporter": "python",
   "pygments_lexer": "ipython3",
   "version": "3.10.9"
  },
  "orig_nbformat": 4,
  "vscode": {
   "interpreter": {
    "hash": "aee8b7b246df8f9039afb4144a1f6fd8d2ca17a180786b69acc140d282b71a49"
   }
  }
 },
 "nbformat": 4,
 "nbformat_minor": 2
}
